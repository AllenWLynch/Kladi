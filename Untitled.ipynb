{
 "cells": [
  {
   "cell_type": "code",
   "execution_count": 1,
   "id": "48690c75",
   "metadata": {},
   "outputs": [
    {
     "data": {
      "text/html": [
       "<style>.container { width:100% !important; }</style>"
      ],
      "text/plain": [
       "<IPython.core.display.HTML object>"
      ]
     },
     "metadata": {},
     "output_type": "display_data"
    }
   ],
   "source": [
    "from IPython.core.display import display, HTML\n",
    "display(HTML(\"<style>.container { width:100% !important; }</style>\"))"
   ]
  },
  {
   "cell_type": "code",
   "execution_count": 2,
   "id": "ba7b4068",
   "metadata": {},
   "outputs": [],
   "source": [
    "import os\n",
    "import numpy as np\n",
    "import anndata\n",
    "#import scanpy as sc\n",
    "from scipy import sparse\n",
    "#from kladi.matrix_models.accessibility_model import AccessibilityModel\n",
    "from kladi.matrix_models.expression_model import ExpressionModel\n",
    "#from kladi.motif_scanning import moods_scan\n",
    "\n",
    "import logging\n",
    "logging.basicConfig()\n",
    "logger = logging.getLogger()\n",
    "logger.setLevel(logging.INFO)"
   ]
  },
  {
   "cell_type": "markdown",
   "id": "bb98b444",
   "metadata": {},
   "source": [
    "### Read expression data"
   ]
  },
  {
   "cell_type": "code",
   "execution_count": 3,
   "id": "061dc16e",
   "metadata": {},
   "outputs": [],
   "source": [
    "gex_data = anndata.read_h5ad('./data/shareseq/2021-05-05_just_raw_counts.h5ad')\n",
    "gex_data.var.index = gex_data.var.index.str.upper()\n",
    "gex_data=gex_data[:,~gex_data.var.index.duplicated()]\n",
    "\n",
    "with open('data/shareseq/model_genes.txt', 'r') as f:\n",
    "    gois = [x.strip() for x  in f]\n",
    "\n",
    "#sc.pp.filter_genes(gex_data, min_counts=5)\n",
    "\n",
    "#gex_data.layers[\"counts\"] = gex_data.X.copy() # preserve counts\n",
    "#sc.pp.normalize_total(gex_data, target_sum=1e4)\n",
    "#sc.pp.log1p(gex_data)\n",
    "#gex_data.raw = gex_data # freeze the state in `.raw`\n",
    "\n",
    "#sc.pp.highly_variable_genes(gex_data, min_mean=0.0125, max_mean=3, min_disp=0.5, n_top_genes = 2000)"
   ]
  },
  {
   "cell_type": "code",
   "execution_count": 4,
   "id": "6b2dc017",
   "metadata": {},
   "outputs": [],
   "source": [
    "with open('/home/allen/Dropbox (Partners HealthCare)/Data/shareseq/all_variable_genes.txt', 'r') as f:\n",
    "    gois = [x.strip() for x in f]\n",
    "    \n",
    "with open('/home/allen/Dropbox (Partners HealthCare)/Data/shareseq/most_variable.txt', 'r') as f:\n",
    "    variable = [x.strip() for x in f]"
   ]
  },
  {
   "cell_type": "code",
   "execution_count": 5,
   "id": "2666f4e7",
   "metadata": {},
   "outputs": [
    {
     "data": {
      "text/plain": [
       "(6646, 2413)"
      ]
     },
     "execution_count": 5,
     "metadata": {},
     "output_type": "execute_result"
    }
   ],
   "source": [
    "len(gois), len(variable)"
   ]
  },
  {
   "cell_type": "code",
   "execution_count": 6,
   "id": "0800f629",
   "metadata": {},
   "outputs": [],
   "source": [
    "gex_data = gex_data[:, gois]"
   ]
  },
  {
   "cell_type": "code",
   "execution_count": 7,
   "id": "faacdfb4",
   "metadata": {},
   "outputs": [
    {
     "data": {
      "text/plain": [
       "View of AnnData object with n_obs × n_vars = 34768 × 6646\n",
       "    obs: 'n_genes'\n",
       "    var: 'n_cells'\n",
       "    uns: 'leiden', 'neighbors', 'pca'"
      ]
     },
     "execution_count": 7,
     "metadata": {},
     "output_type": "execute_result"
    }
   ],
   "source": [
    "gex_data"
   ]
  },
  {
   "cell_type": "code",
   "execution_count": 8,
   "id": "c22549ce",
   "metadata": {},
   "outputs": [
    {
     "name": "stderr",
     "output_type": "stream",
     "text": [
      "INFO:root:Using CUDA: True\n"
     ]
    }
   ],
   "source": [
    "expr_model = ExpressionModel(gois, highly_variable=np.isin(gois, variable), num_modules=32)"
   ]
  },
  {
   "cell_type": "code",
   "execution_count": 9,
   "id": "656e634b",
   "metadata": {},
   "outputs": [],
   "source": [
    "counts = np.array(gex_data.X.todense())"
   ]
  },
  {
   "cell_type": "code",
   "execution_count": 10,
   "id": "0105a872",
   "metadata": {},
   "outputs": [
    {
     "name": "stderr",
     "output_type": "stream",
     "text": [
      "INFO:root:Validating data ...\n",
      "INFO:root:Initializing model ...\n",
      "INFO:root:Training ...\n",
      "INFO:root:Learning deviance featurization for transcript counts ...\n",
      "INFO:root:Epoch 1/100 complete. Training loss: 8.444e+03\n",
      "INFO:root:Epoch 2/100 complete. Training loss: 5.782e+03\n",
      "INFO:root:Epoch 3/100 complete. Training loss: 4.248e+03\n",
      "INFO:root:Epoch 4/100 complete. Training loss: 3.245e+03\n",
      "INFO:root:Epoch 5/100 complete. Training loss: 2.684e+03\n",
      "INFO:root:Epoch 6/100 complete. Training loss: 2.303e+03\n",
      "INFO:root:Epoch 7/100 complete. Training loss: 2.047e+03\n",
      "INFO:root:Epoch 8/100 complete. Training loss: 1.930e+03\n",
      "INFO:root:Epoch 9/100 complete. Training loss: 1.900e+03\n",
      "INFO:root:Epoch 10/100 complete. Training loss: 1.888e+03\n",
      "INFO:root:Epoch 11/100 complete. Training loss: 1.881e+03\n",
      "INFO:root:Epoch 12/100 complete. Training loss: 1.876e+03\n",
      "INFO:root:Epoch 13/100 complete. Training loss: 1.871e+03\n",
      "INFO:root:Epoch 14/100 complete. Training loss: 1.868e+03\n",
      "INFO:root:Epoch 15/100 complete. Training loss: 1.866e+03\n",
      "INFO:root:Epoch 16/100 complete. Training loss: 1.865e+03\n",
      "INFO:root:Epoch 17/100 complete. Training loss: 1.863e+03\n",
      "INFO:root:Epoch 18/100 complete. Training loss: 1.861e+03\n",
      "INFO:root:Epoch 19/100 complete. Training loss: 1.860e+03\n",
      "INFO:root:Epoch 20/100 complete. Training loss: 1.860e+03\n",
      "INFO:root:Epoch 21/100 complete. Training loss: 1.859e+03\n",
      "INFO:root:Epoch 22/100 complete. Training loss: 1.858e+03\n",
      "INFO:root:Epoch 23/100 complete. Training loss: 1.857e+03\n",
      "INFO:root:Epoch 24/100 complete. Training loss: 1.857e+03\n",
      "INFO:root:Epoch 25/100 complete. Training loss: 1.855e+03\n",
      "INFO:root:Epoch 26/100 complete. Training loss: 1.855e+03\n",
      "INFO:root:Epoch 27/100 complete. Training loss: 1.854e+03\n",
      "INFO:root:Epoch 28/100 complete. Training loss: 1.853e+03\n",
      "INFO:root:Epoch 29/100 complete. Training loss: 1.852e+03\n",
      "INFO:root:Epoch 30/100 complete. Training loss: 1.851e+03\n",
      "INFO:root:Epoch 31/100 complete. Training loss: 1.850e+03\n",
      "INFO:root:Epoch 32/100 complete. Training loss: 1.850e+03\n",
      "INFO:root:Epoch 33/100 complete. Training loss: 1.850e+03\n",
      "INFO:root:Epoch 34/100 complete. Training loss: 1.849e+03\n",
      "INFO:root:Epoch 35/100 complete. Training loss: 1.849e+03\n",
      "INFO:root:Epoch 36/100 complete. Training loss: 1.849e+03\n",
      "INFO:root:Epoch 37/100 complete. Training loss: 1.848e+03\n",
      "INFO:root:Epoch 38/100 complete. Training loss: 1.848e+03\n",
      "INFO:root:Epoch 39/100 complete. Training loss: 1.847e+03\n",
      "INFO:root:Epoch 40/100 complete. Training loss: 1.848e+03\n",
      "INFO:root:Epoch 41/100 complete. Training loss: 1.847e+03\n",
      "INFO:root:Epoch 42/100 complete. Training loss: 1.846e+03\n",
      "INFO:root:Epoch 43/100 complete. Training loss: 1.846e+03\n",
      "INFO:root:Epoch 44/100 complete. Training loss: 1.846e+03\n",
      "INFO:root:Epoch 45/100 complete. Training loss: 1.846e+03\n",
      "INFO:root:Epoch 46/100 complete. Training loss: 1.846e+03\n",
      "INFO:root:Epoch 47/100 complete. Training loss: 1.846e+03\n",
      "INFO:root:Epoch 48/100 complete. Training loss: 1.846e+03\n",
      "INFO:root:Epoch 49/100 complete. Training loss: 1.845e+03\n",
      "INFO:root:Epoch 50/100 complete. Training loss: 1.845e+03\n",
      "INFO:root:Epoch 51/100 complete. Training loss: 1.845e+03\n",
      "INFO:root:Epoch 52/100 complete. Training loss: 1.844e+03\n",
      "INFO:root:Epoch 53/100 complete. Training loss: 1.844e+03\n",
      "INFO:root:Epoch 54/100 complete. Training loss: 1.844e+03\n",
      "INFO:root:Epoch 55/100 complete. Training loss: 1.844e+03\n",
      "INFO:root:Epoch 56/100 complete. Training loss: 1.844e+03\n",
      "INFO:root:Epoch 57/100 complete. Training loss: 1.844e+03\n",
      "INFO:root:Epoch 58/100 complete. Training loss: 1.844e+03\n",
      "INFO:root:Epoch 59/100 complete. Training loss: 1.844e+03\n",
      "INFO:root:Epoch 60/100 complete. Training loss: 1.843e+03\n",
      "INFO:root:Epoch 61/100 complete. Training loss: 1.843e+03\n",
      "INFO:root:Epoch 62/100 complete. Training loss: 1.843e+03\n",
      "INFO:root:Epoch 63/100 complete. Training loss: 1.843e+03\n",
      "INFO:root:Epoch 64/100 complete. Training loss: 1.843e+03\n",
      "INFO:root:Epoch 65/100 complete. Training loss: 1.843e+03\n",
      "INFO:root:Epoch 66/100 complete. Training loss: 1.843e+03\n",
      "INFO:root:Epoch 67/100 complete. Training loss: 1.843e+03\n",
      "INFO:root:Epoch 68/100 complete. Training loss: 1.843e+03\n",
      "INFO:root:Epoch 69/100 complete. Training loss: 1.843e+03\n",
      "INFO:root:Epoch 70/100 complete. Training loss: 1.842e+03\n",
      "INFO:root:Epoch 71/100 complete. Training loss: 1.843e+03\n",
      "INFO:root:Epoch 72/100 complete. Training loss: 1.842e+03\n",
      "INFO:root:Epoch 73/100 complete. Training loss: 1.842e+03\n",
      "INFO:root:Epoch 74/100 complete. Training loss: 1.842e+03\n",
      "INFO:root:Epoch 75/100 complete. Training loss: 1.842e+03\n",
      "INFO:root:Epoch 76/100 complete. Training loss: 1.842e+03\n",
      "INFO:root:Epoch 77/100 complete. Training loss: 1.841e+03\n",
      "INFO:root:Epoch 78/100 complete. Training loss: 1.842e+03\n",
      "INFO:root:Epoch 79/100 complete. Training loss: 1.842e+03\n",
      "INFO:root:Epoch 80/100 complete. Training loss: 1.842e+03\n",
      "INFO:root:Epoch 81/100 complete. Training loss: 1.841e+03\n",
      "INFO:root:Epoch 82/100 complete. Training loss: 1.841e+03\n",
      "INFO:root:Epoch 83/100 complete. Training loss: 1.841e+03\n",
      "INFO:root:Epoch 84/100 complete. Training loss: 1.842e+03\n",
      "ERROR:root:Interrupted training.\n",
      "INFO:root:Moving model to device: cpu\n"
     ]
    },
    {
     "data": {
      "text/plain": [
       "ExpressionModel(\n",
       "  (decoder): ExpressionDecoder(\n",
       "    (beta): Linear(in_features=32, out_features=6646, bias=False)\n",
       "    (bn): BatchNorm1d(6646, eps=1e-05, momentum=0.1, affine=True, track_running_stats=True)\n",
       "    (drop): Dropout(p=0.3599999999999999, inplace=False)\n",
       "    (fc): Linear(in_features=32, out_features=6646, bias=False)\n",
       "    (bn2): BatchNorm1d(6646, eps=1e-05, momentum=0.1, affine=True, track_running_stats=True)\n",
       "  )\n",
       "  (encoder): ExpressionEncoder(\n",
       "    (drop0): Dropout(p=0.2, inplace=False)\n",
       "    (drop): Dropout(p=0.2, inplace=False)\n",
       "    (fc1): Linear(in_features=2414, out_features=128, bias=True)\n",
       "    (fc2): Linear(in_features=128, out_features=128, bias=True)\n",
       "    (fc3): Linear(in_features=128, out_features=128, bias=True)\n",
       "    (fcmu): Linear(in_features=128, out_features=32, bias=True)\n",
       "    (fclv): Linear(in_features=128, out_features=32, bias=True)\n",
       "    (fcrd): Linear(in_features=128, out_features=2, bias=True)\n",
       "    (bnmu): BatchNorm1d(32, eps=1e-05, momentum=0.1, affine=True, track_running_stats=True)\n",
       "    (bnlv): BatchNorm1d(32, eps=1e-05, momentum=0.1, affine=True, track_running_stats=True)\n",
       "    (bnrd): BatchNorm1d(2, eps=1e-05, momentum=0.1, affine=True, track_running_stats=True)\n",
       "  )\n",
       ")"
      ]
     },
     "execution_count": 10,
     "metadata": {},
     "output_type": "execute_result"
    }
   ],
   "source": [
    "expr_model.fit(counts)"
   ]
  },
  {
   "cell_type": "code",
   "execution_count": 11,
   "id": "b4545ae7",
   "metadata": {},
   "outputs": [],
   "source": [
    "expr_model.save('/home/allen/Dropbox (Partners HealthCare)/Data/shareseq/2021-04-28-test2.pth')"
   ]
  }
 ],
 "metadata": {
  "kernelspec": {
   "display_name": "cuda",
   "language": "python",
   "name": "cuda"
  },
  "language_info": {
   "codemirror_mode": {
    "name": "ipython",
    "version": 3
   },
   "file_extension": ".py",
   "mimetype": "text/x-python",
   "name": "python",
   "nbconvert_exporter": "python",
   "pygments_lexer": "ipython3",
   "version": "3.8.0"
  }
 },
 "nbformat": 4,
 "nbformat_minor": 5
}
