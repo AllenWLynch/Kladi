{
 "cells": [
  {
   "cell_type": "code",
   "execution_count": 1,
   "id": "48690c75",
   "metadata": {},
   "outputs": [
    {
     "data": {
      "text/html": [
       "<style>.container { width:100% !important; }</style>"
      ],
      "text/plain": [
       "<IPython.core.display.HTML object>"
      ]
     },
     "metadata": {},
     "output_type": "display_data"
    }
   ],
   "source": [
    "from IPython.core.display import display, HTML\n",
    "display(HTML(\"<style>.container { width:100% !important; }</style>\"))"
   ]
  },
  {
   "cell_type": "code",
   "execution_count": 1,
   "id": "ba7b4068",
   "metadata": {},
   "outputs": [],
   "source": [
    "import os\n",
    "import numpy as np\n",
    "import anndata\n",
    "import scanpy as sc\n",
    "from scipy import sparse\n",
    "from kladi.matrix_models.accessibility_model import AccessibilityModel\n",
    "from kladi.matrix_models.expression_model import ExpressionModel\n",
    "from kladi.motif_scanning import moods_scan\n",
    "\n",
    "import logging\n",
    "logging.basicConfig()\n",
    "logger = logging.getLogger()\n",
    "logger.setLevel(logging.INFO)"
   ]
  },
  {
   "cell_type": "markdown",
   "id": "bb98b444",
   "metadata": {},
   "source": [
    "### Read expression data"
   ]
  },
  {
   "cell_type": "code",
   "execution_count": 2,
   "id": "061dc16e",
   "metadata": {},
   "outputs": [
    {
     "name": "stderr",
     "output_type": "stream",
     "text": [
      "Trying to set attribute `.var` of view, copying.\n"
     ]
    }
   ],
   "source": [
    "gex_data = anndata.read_h5ad('./data/shareseq/2021-05-05_just_raw_counts.h5ad')\n",
    "gex_data.var.index = gex_data.var.index.str.upper()\n",
    "gex_data=gex_data[:,~gex_data.var.index.duplicated()]\n",
    "\n",
    "with open('data/shareseq/model_genes.txt', 'r') as f:\n",
    "    gois = [x.strip() for x  in f]\n",
    "\n",
    "sc.pp.filter_genes(gex_data, min_counts=5)\n",
    "\n",
    "gex_data.layers[\"counts\"] = gex_data.X.copy() # preserve counts\n",
    "sc.pp.normalize_total(gex_data, target_sum=1e4)\n",
    "sc.pp.log1p(gex_data)\n",
    "gex_data.raw = gex_data # freeze the state in `.raw`\n",
    "\n",
    "sc.pp.highly_variable_genes(gex_data, min_mean=0.0125, max_mean=3, min_disp=0.5, n_top_genes = 2000)"
   ]
  },
  {
   "cell_type": "code",
   "execution_count": 3,
   "id": "ea3f5c57",
   "metadata": {},
   "outputs": [],
   "source": [
    "gois = np.union1d(gois, gex_data[:, gex_data.var.highly_variable].var.index.values)\n",
    "gex_data=gex_data[:, gois]"
   ]
  },
  {
   "cell_type": "code",
   "execution_count": 4,
   "id": "c22549ce",
   "metadata": {},
   "outputs": [
    {
     "name": "stderr",
     "output_type": "stream",
     "text": [
      "INFO:root:Using CUDA: False\n"
     ]
    }
   ],
   "source": [
    "expr_model = ExpressionModel(gois, highly_variable=gex_data.var.highly_variable.values, num_modules=24)"
   ]
  },
  {
   "cell_type": "code",
   "execution_count": 5,
   "id": "0105a872",
   "metadata": {},
   "outputs": [
    {
     "name": "stderr",
     "output_type": "stream",
     "text": [
      "INFO:root:Validating data ...\n",
      "INFO:root:Initializing model ...\n",
      "INFO:root:Training ...\n",
      "INFO:root:Learning deviance featurization for transcript counts ...\n",
      "INFO:root:Epoch 1/100 complete. Training loss: 8.112e+03\n",
      "ERROR:root:Interrupted training.\n",
      "INFO:root:Moving model to device: cpu\n"
     ]
    },
    {
     "data": {
      "text/plain": [
       "ExpressionModel(\n",
       "  (decoder): ExpressionDecoder(\n",
       "    (beta): Linear(in_features=24, out_features=6572, bias=False)\n",
       "    (bn): BatchNorm1d(6572, eps=1e-05, momentum=0.1, affine=True, track_running_stats=True)\n",
       "    (drop): Dropout(p=0.2, inplace=False)\n",
       "    (fc): Linear(in_features=24, out_features=6572, bias=False)\n",
       "    (bn2): BatchNorm1d(6572, eps=1e-05, momentum=0.1, affine=True, track_running_stats=True)\n",
       "  )\n",
       "  (encoder): ExpressionEncoder(\n",
       "    (drop): Dropout(p=0.2, inplace=False)\n",
       "    (fc1): Linear(in_features=2001, out_features=128, bias=True)\n",
       "    (fc2): Linear(in_features=128, out_features=128, bias=True)\n",
       "    (fcmu): Linear(in_features=128, out_features=24, bias=True)\n",
       "    (fclv): Linear(in_features=128, out_features=24, bias=True)\n",
       "    (fcrd): Linear(in_features=128, out_features=2, bias=True)\n",
       "    (bnmu): BatchNorm1d(24, eps=1e-05, momentum=0.1, affine=True, track_running_stats=True)\n",
       "    (bnlv): BatchNorm1d(24, eps=1e-05, momentum=0.1, affine=True, track_running_stats=True)\n",
       "    (bnrd): BatchNorm1d(2, eps=1e-05, momentum=0.1, affine=True, track_running_stats=True)\n",
       "  )\n",
       ")"
      ]
     },
     "execution_count": 5,
     "metadata": {},
     "output_type": "execute_result"
    }
   ],
   "source": [
    "expr_model.fit(gex_data.layers['counts'])"
   ]
  }
 ],
 "metadata": {
  "kernelspec": {
   "display_name": "moods3",
   "language": "python",
   "name": "moods3"
  },
  "language_info": {
   "codemirror_mode": {
    "name": "ipython",
    "version": 3
   },
   "file_extension": ".py",
   "mimetype": "text/x-python",
   "name": "python",
   "nbconvert_exporter": "python",
   "pygments_lexer": "ipython3",
   "version": "3.7.10"
  }
 },
 "nbformat": 4,
 "nbformat_minor": 5
}
